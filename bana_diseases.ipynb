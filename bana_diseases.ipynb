{
 "cells": [
  {
   "cell_type": "code",
   "execution_count": 4,
   "id": "initial_id",
   "metadata": {
    "collapsed": true,
    "ExecuteTime": {
     "end_time": "2023-11-08T17:45:18.395218200Z",
     "start_time": "2023-11-08T17:44:52.130137600Z"
    }
   },
   "outputs": [
    {
     "name": "stdout",
     "output_type": "stream",
     "text": [
      "Collecting package metadata (current_repodata.json): ...working... done\n",
      "Solving environment: ...working... unsuccessful initial attempt using frozen solve. Retrying with flexible solve.\n",
      "Collecting package metadata (repodata.json): ...working... done\n",
      "Solving environment: ...working... unsuccessful initial attempt using frozen solve. Retrying with flexible solve.\n"
     ]
    },
    {
     "name": "stderr",
     "output_type": "stream",
     "text": [
      "DEBUG:urllib3.connectionpool:Starting new HTTPS connection (1): repo.anaconda.com:443\n",
      "DEBUG:urllib3.connectionpool:Starting new HTTPS connection (1): repo.anaconda.com:443\n",
      "DEBUG:urllib3.connectionpool:Starting new HTTPS connection (1): repo.anaconda.com:443\n",
      "DEBUG:urllib3.connectionpool:Starting new HTTPS connection (1): repo.anaconda.com:443\n",
      "DEBUG:urllib3.connectionpool:Starting new HTTPS connection (1): repo.anaconda.com:443\n",
      "DEBUG:urllib3.connectionpool:Starting new HTTPS connection (1): repo.anaconda.com:443\n",
      "DEBUG:urllib3.connectionpool:https://repo.anaconda.com:443 \"GET /pkgs/r/noarch/current_repodata.json HTTP/1.1\" 304 0\n",
      "DEBUG:urllib3.connectionpool:https://repo.anaconda.com:443 \"GET /pkgs/main/noarch/current_repodata.json HTTP/1.1\" 304 0\n",
      "DEBUG:urllib3.connectionpool:https://repo.anaconda.com:443 \"GET /pkgs/r/win-64/current_repodata.json HTTP/1.1\" 304 0\n",
      "DEBUG:urllib3.connectionpool:https://repo.anaconda.com:443 \"GET /pkgs/msys2/noarch/current_repodata.json HTTP/1.1\" 304 0\n",
      "DEBUG:urllib3.connectionpool:https://repo.anaconda.com:443 \"GET /pkgs/msys2/win-64/current_repodata.json HTTP/1.1\" 304 0\n",
      "DEBUG:urllib3.connectionpool:https://repo.anaconda.com:443 \"GET /pkgs/main/win-64/current_repodata.json HTTP/1.1\" 304 0\n",
      "DEBUG:urllib3.connectionpool:Starting new HTTPS connection (1): repo.anaconda.com:443\n",
      "DEBUG:urllib3.connectionpool:Starting new HTTPS connection (1): repo.anaconda.com:443\n",
      "DEBUG:urllib3.connectionpool:Starting new HTTPS connection (1): repo.anaconda.com:443\n",
      "DEBUG:urllib3.connectionpool:Starting new HTTPS connection (1): repo.anaconda.com:443\n",
      "DEBUG:urllib3.connectionpool:Starting new HTTPS connection (1): repo.anaconda.com:443\n",
      "DEBUG:urllib3.connectionpool:Starting new HTTPS connection (1): repo.anaconda.com:443\n",
      "DEBUG:urllib3.connectionpool:https://repo.anaconda.com:443 \"GET /pkgs/main/win-64/repodata.json HTTP/1.1\" 304 0\n",
      "DEBUG:urllib3.connectionpool:https://repo.anaconda.com:443 \"GET /pkgs/msys2/win-64/repodata.json HTTP/1.1\" 304 0\n",
      "DEBUG:urllib3.connectionpool:https://repo.anaconda.com:443 \"GET /pkgs/r/noarch/repodata.json HTTP/1.1\" 304 0\n",
      "DEBUG:urllib3.connectionpool:https://repo.anaconda.com:443 \"GET /pkgs/main/noarch/repodata.json HTTP/1.1\" 304 0\n",
      "DEBUG:urllib3.connectionpool:https://repo.anaconda.com:443 \"GET /pkgs/msys2/noarch/repodata.json HTTP/1.1\" 304 0\n",
      "DEBUG:urllib3.connectionpool:https://repo.anaconda.com:443 \"GET /pkgs/r/win-64/repodata.json HTTP/1.1\" 304 0\n",
      "\n",
      "PackagesNotFoundError: The following packages are not available from current channels:\n",
      "\n",
      "  - torch\n",
      "\n",
      "Current channels:\n",
      "\n",
      "  - https://repo.anaconda.com/pkgs/main/win-64\n",
      "  - https://repo.anaconda.com/pkgs/main/noarch\n",
      "  - https://repo.anaconda.com/pkgs/r/win-64\n",
      "  - https://repo.anaconda.com/pkgs/r/noarch\n",
      "  - https://repo.anaconda.com/pkgs/msys2/win-64\n",
      "  - https://repo.anaconda.com/pkgs/msys2/noarch\n",
      "\n",
      "To search for alternate channels that may provide the conda package you're\n",
      "looking for, navigate to\n",
      "\n",
      "    https://anaconda.org\n",
      "\n",
      "and use the search bar at the top of the page.\n",
      "\n",
      "\n"
     ]
    }
   ],
   "source": [
    "!conda install --name bananavision --file requirements.txt"
   ]
  },
  {
   "cell_type": "code",
   "execution_count": 4,
   "outputs": [],
   "source": [
    "!setup_environment.sh\n"
   ],
   "metadata": {
    "collapsed": false,
    "ExecuteTime": {
     "end_time": "2023-11-08T18:09:54.023780600Z",
     "start_time": "2023-11-08T18:09:46.326197400Z"
    }
   },
   "id": "f85bdd579202a408"
  },
  {
   "cell_type": "code",
   "execution_count": 13,
   "outputs": [
    {
     "ename": "ModuleNotFoundError",
     "evalue": "No module named 'sklearn'",
     "output_type": "error",
     "traceback": [
      "\u001B[1;31m---------------------------------------------------------------------------\u001B[0m",
      "\u001B[1;31mModuleNotFoundError\u001B[0m                       Traceback (most recent call last)",
      "Cell \u001B[1;32mIn[13], line 3\u001B[0m\n\u001B[0;32m      1\u001B[0m \u001B[38;5;28;01mimport\u001B[39;00m \u001B[38;5;21;01mos\u001B[39;00m\n\u001B[0;32m      2\u001B[0m \u001B[38;5;28;01mimport\u001B[39;00m \u001B[38;5;21;01mpandas\u001B[39;00m \u001B[38;5;28;01mas\u001B[39;00m \u001B[38;5;21;01mpd\u001B[39;00m\n\u001B[1;32m----> 3\u001B[0m \u001B[38;5;28;01mfrom\u001B[39;00m \u001B[38;5;21;01msklearn\u001B[39;00m\u001B[38;5;21;01m.\u001B[39;00m\u001B[38;5;21;01mutils\u001B[39;00m \u001B[38;5;28;01mimport\u001B[39;00m shuffle\n\u001B[0;32m      4\u001B[0m \u001B[38;5;28;01mfrom\u001B[39;00m \u001B[38;5;21;01mPIL\u001B[39;00m \u001B[38;5;28;01mimport\u001B[39;00m Image\n\u001B[0;32m      5\u001B[0m \u001B[38;5;28;01mimport\u001B[39;00m \u001B[38;5;21;01mtorch\u001B[39;00m\n",
      "\u001B[1;31mModuleNotFoundError\u001B[0m: No module named 'sklearn'"
     ]
    }
   ],
   "source": [
    "import os\n",
    "import pandas as pd\n",
    "from sklearn.utils import shuffle\n",
    "from PIL import Image\n",
    "import torch\n",
    "from torchvision import transforms, models\n",
    "import torch.nn as nn\n",
    "import torch.optim as optim\n",
    "from sklearn.preprocessing import OneHotEncoder"
   ],
   "metadata": {
    "collapsed": false,
    "ExecuteTime": {
     "end_time": "2023-11-08T19:49:35.264044Z",
     "start_time": "2023-11-08T19:49:35.235836200Z"
    }
   },
   "id": "2a380d9991b7fa9b"
  },
  {
   "cell_type": "code",
   "execution_count": 11,
   "outputs": [],
   "source": [
    "\n",
    "def create_dataframe_from_images(folders):\n",
    "    \"\"\"\n",
    "    Create a DataFrame by reading images from multiple folders and labeling them with the folder names.\n",
    "\n",
    "    Args:\n",
    "        folders (list): List of folder paths to read images from.\n",
    "\n",
    "    Returns:\n",
    "        pandas.DataFrame: DataFrame containing image paths and labels.\n",
    "    \"\"\"\n",
    "    data = []\n",
    "    for folder in folders:\n",
    "        for filename in os.listdir(folder):\n",
    "            if filename.endswith('.jpg') or filename.endswith('.png'):\n",
    "                image_path = os.path.join(folder, filename)\n",
    "                label = os.path.basename(folder)\n",
    "                data.append((image_path, label))\n",
    "\n",
    "    df = pd.DataFrame(data, columns=['image_path', 'label'])\n",
    "    df = shuffle(df)\n",
    "    return df\n",
    "\n",
    "def preprocess_images(df):\n",
    "    \"\"\"\n",
    "    Preprocess the images in the DataFrame.\n",
    "\n",
    "    Args:\n",
    "        df (pandas.DataFrame): DataFrame containing image paths and labels.\n",
    "\n",
    "    Returns:\n",
    "        tuple: A tuple containing the preprocessed images and corresponding labels.\n",
    "    \"\"\"\n",
    "    transform = transforms.Compose([\n",
    "        transforms.ToTensor(),\n",
    "        transforms.Normalize([0.485, 0.456, 0.406], [0.229, 0.224, 0.225])\n",
    "    ])\n",
    "\n",
    "    images = []\n",
    "    labels = []\n",
    "\n",
    "    for image_path, label in df.values:\n",
    "        image = Image.open(image_path)\n",
    "        image = transform(image)\n",
    "        images.append(image)\n",
    "        labels.append(label)\n",
    "\n",
    "    return images, labels\n",
    "\n",
    "def onehot_encode_labels(labels):\n",
    "    \"\"\"\n",
    "    One-hot encode the labels in the list.\n",
    "\n",
    "    Args:\n",
    "        labels (list): List of labels.\n",
    "\n",
    "    Returns:\n",
    "        torch.Tensor: One-hot encoded labels.\n",
    "    \"\"\"\n",
    "    encoder = OneHotEncoder(handle_unknown='ignore')\n",
    "    encoded_labels = encoder.fit_transform(labels).toarray()\n",
    "    return torch.tensor(encoded_labels)\n",
    "\n",
    "def train_model(images, labels, num_epochs=10, batch_size=16, num_classes=3):\n",
    "    \"\"\"\n",
    "    Train the ResNet-152 model on the given images and labels.\n",
    "\n",
    "    Args:\n",
    "        images (torch.Tensor): Tensor of preprocessed images.\n",
    "        labels (torch.Tensor): Tensor of one-hot encoded labels.\n",
    "        num_epochs (int, optional): Number of training epochs. Defaults to 10.\n",
    "        batch_size (int, optional): Batch size for training. Defaults to 16.\n",
    "        num_classes(int, optional): Number of classes\n",
    "\n",
    "    Returns:\n",
    "        torch.nn.Module: Trained ResNet-152 model.\n",
    "    \"\"\"\n",
    "    device = torch.device(\"cuda:0\" if torch.cuda.is_available() else \"cpu\")\n",
    "    model = models.resnet152(pretrained=True)  # Use ResNet-152 with pre-trained weights\n",
    "    num_ftrs = model.fc.in_features\n",
    "    model.fc = nn.Linear(num_ftrs, num_classes)  # Customize the last fully connected layer\n",
    "\n",
    "    criterion = nn.CrossEntropyLoss()\n",
    "    optimizer = optim.Adam(model.parameters(), lr=0.001)\n",
    "\n",
    "    train_loader = torch.utils.data.DataLoader(torch.utils.data.TensorDataset(images, labels), batch_size=batch_size)\n",
    "\n",
    "    model.to(device)\n",
    "\n",
    "    for epoch in range(num_epochs):\n",
    "        running_loss = 0.0\n",
    "        for i, data in enumerate(train_loader, 0):\n",
    "            inputs, labels = data\n",
    "            inputs, labels = inputs.to(device), labels.to(device)\n",
    "            optimizer.zero_grad()\n",
    "            outputs = model(inputs)\n",
    "            loss = criterion(outputs, labels)\n",
    "            loss.backward()\n",
    "            optimizer.step()\n",
    "            running_loss += loss.item()\n",
    "            if i % 100 == 99:\n",
    "                print(f\"Epoch: {epoch + 1}/{num_epochs}, Loss: {running_loss / 100}\")\n",
    "                running_loss = 0.0\n",
    "\n",
    "    return model\n"
   ],
   "metadata": {
    "collapsed": false,
    "ExecuteTime": {
     "end_time": "2023-11-08T19:07:35.920704200Z",
     "start_time": "2023-11-08T19:07:35.894316700Z"
    }
   },
   "id": "e33902b1cd94913e"
  },
  {
   "cell_type": "code",
   "execution_count": 12,
   "outputs": [
    {
     "ename": "NameError",
     "evalue": "name 'shuffle' is not defined",
     "output_type": "error",
     "traceback": [
      "\u001B[1;31m---------------------------------------------------------------------------\u001B[0m",
      "\u001B[1;31mNameError\u001B[0m                                 Traceback (most recent call last)",
      "Cell \u001B[1;32mIn[12], line 2\u001B[0m\n\u001B[0;32m      1\u001B[0m \u001B[38;5;66;03m# Create a DataFrame from the images in the training and validation folders\u001B[39;00m\n\u001B[1;32m----> 2\u001B[0m df_train \u001B[38;5;241m=\u001B[39m create_dataframe_from_images([\u001B[38;5;124m'\u001B[39m\u001B[38;5;124mdata/train/BLACK SIGATOKA_1\u001B[39m\u001B[38;5;124m'\u001B[39m, \u001B[38;5;124m'\u001B[39m\u001B[38;5;124mdata/train/FUSARIUM WILT_1\u001B[39m\u001B[38;5;124m'\u001B[39m,\u001B[38;5;124m'\u001B[39m\u001B[38;5;124mdata/train/HEALTHY_1\u001B[39m\u001B[38;5;124m'\u001B[39m])\n\u001B[0;32m      3\u001B[0m df_validation \u001B[38;5;241m=\u001B[39m create_dataframe_from_images([\u001B[38;5;124m'\u001B[39m\u001B[38;5;124mdata/test/BLACK SIGATOKA_2\u001B[39m\u001B[38;5;124m'\u001B[39m, \u001B[38;5;124m'\u001B[39m\u001B[38;5;124mdata/test/FUSARIUM WILT_2\u001B[39m\u001B[38;5;124m'\u001B[39m,\u001B[38;5;124m'\u001B[39m\u001B[38;5;124mdata/test/HEALTHY_2\u001B[39m\u001B[38;5;124m'\u001B[39m])\n",
      "Cell \u001B[1;32mIn[11], line 20\u001B[0m, in \u001B[0;36mcreate_dataframe_from_images\u001B[1;34m(folders)\u001B[0m\n\u001B[0;32m     17\u001B[0m             data\u001B[38;5;241m.\u001B[39mappend((image_path, label))\n\u001B[0;32m     19\u001B[0m df \u001B[38;5;241m=\u001B[39m pd\u001B[38;5;241m.\u001B[39mDataFrame(data, columns\u001B[38;5;241m=\u001B[39m[\u001B[38;5;124m'\u001B[39m\u001B[38;5;124mimage_path\u001B[39m\u001B[38;5;124m'\u001B[39m, \u001B[38;5;124m'\u001B[39m\u001B[38;5;124mlabel\u001B[39m\u001B[38;5;124m'\u001B[39m])\n\u001B[1;32m---> 20\u001B[0m df \u001B[38;5;241m=\u001B[39m shuffle(df)\n\u001B[0;32m     21\u001B[0m \u001B[38;5;28;01mreturn\u001B[39;00m df\n",
      "\u001B[1;31mNameError\u001B[0m: name 'shuffle' is not defined"
     ]
    }
   ],
   "source": [
    "# Create a DataFrame from the images in the training and validation folders\n",
    "df_train = create_dataframe_from_images(['data/train/BLACK SIGATOKA_1', 'data/train/FUSARIUM WILT_1','data/train/HEALTHY_1'])\n",
    "df_validation = create_dataframe_from_images(['data/test/BLACK SIGATOKA_2', 'data/test/FUSARIUM WILT_2','data/test/HEALTHY_2'])\n"
   ],
   "metadata": {
    "collapsed": false,
    "ExecuteTime": {
     "end_time": "2023-11-08T19:07:39.392962900Z",
     "start_time": "2023-11-08T19:07:39.304236700Z"
    }
   },
   "id": "9138c7f2471afc05"
  },
  {
   "cell_type": "code",
   "execution_count": 9,
   "outputs": [
    {
     "data": {
      "text/plain": "                                  image_path             label\n0  data/train/BLACK SIGATOKA_1\\Image_870.jpg  BLACK SIGATOKA_1\n1  data/train/BLACK SIGATOKA_1\\Image_871.jpg  BLACK SIGATOKA_1\n2  data/train/BLACK SIGATOKA_1\\Image_872.jpg  BLACK SIGATOKA_1\n3  data/train/BLACK SIGATOKA_1\\Image_873.jpg  BLACK SIGATOKA_1\n4  data/train/BLACK SIGATOKA_1\\Image_874.jpg  BLACK SIGATOKA_1",
      "text/html": "<div>\n<style scoped>\n    .dataframe tbody tr th:only-of-type {\n        vertical-align: middle;\n    }\n\n    .dataframe tbody tr th {\n        vertical-align: top;\n    }\n\n    .dataframe thead th {\n        text-align: right;\n    }\n</style>\n<table border=\"1\" class=\"dataframe\">\n  <thead>\n    <tr style=\"text-align: right;\">\n      <th></th>\n      <th>image_path</th>\n      <th>label</th>\n    </tr>\n  </thead>\n  <tbody>\n    <tr>\n      <th>0</th>\n      <td>data/train/BLACK SIGATOKA_1\\Image_870.jpg</td>\n      <td>BLACK SIGATOKA_1</td>\n    </tr>\n    <tr>\n      <th>1</th>\n      <td>data/train/BLACK SIGATOKA_1\\Image_871.jpg</td>\n      <td>BLACK SIGATOKA_1</td>\n    </tr>\n    <tr>\n      <th>2</th>\n      <td>data/train/BLACK SIGATOKA_1\\Image_872.jpg</td>\n      <td>BLACK SIGATOKA_1</td>\n    </tr>\n    <tr>\n      <th>3</th>\n      <td>data/train/BLACK SIGATOKA_1\\Image_873.jpg</td>\n      <td>BLACK SIGATOKA_1</td>\n    </tr>\n    <tr>\n      <th>4</th>\n      <td>data/train/BLACK SIGATOKA_1\\Image_874.jpg</td>\n      <td>BLACK SIGATOKA_1</td>\n    </tr>\n  </tbody>\n</table>\n</div>"
     },
     "metadata": {},
     "output_type": "display_data"
    }
   ],
   "source": [
    "display(df_train.head())"
   ],
   "metadata": {
    "collapsed": false,
    "ExecuteTime": {
     "end_time": "2023-11-08T19:01:55.050312100Z",
     "start_time": "2023-11-08T19:01:54.942293500Z"
    }
   },
   "id": "a6cbc1df53ea877c"
  }
 ],
 "metadata": {
  "kernelspec": {
   "display_name": "Python 3",
   "language": "python",
   "name": "python3"
  },
  "language_info": {
   "codemirror_mode": {
    "name": "ipython",
    "version": 2
   },
   "file_extension": ".py",
   "mimetype": "text/x-python",
   "name": "python",
   "nbconvert_exporter": "python",
   "pygments_lexer": "ipython2",
   "version": "2.7.6"
  }
 },
 "nbformat": 4,
 "nbformat_minor": 5
}
